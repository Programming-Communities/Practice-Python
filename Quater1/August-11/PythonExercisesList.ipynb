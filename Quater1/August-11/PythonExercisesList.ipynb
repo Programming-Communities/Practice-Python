{
 "cells": [
  {
   "cell_type": "markdown",
   "metadata": {},
   "source": [
    "\n",
    "### Python Exercises on Lists\n",
    "\n",
    "<div style=\"font-size: 11px;\">\n",
    "\n",
    "### Exercise 3-1: Names\n",
    "**Task:** Store the names of a few of your friends in a list called `names`. Print each person’s name by accessing each element in the list, one at a time.\n",
    "\n",
    "### Exercise 3-2: Greetings\n",
    "**Task:** Start with the list you used in Exercise 3-1. Instead of just printing each person’s name, print a message to them. The text of each message should be the same, but each message should be personalized with the person’s name.\n",
    "\n",
    "### Exercise 3-3: Your Own List\n",
    "**Task:** Think of your favorite mode of transportation, such as a motorcycle or a car, and make a list that stores several examples. Use your list to print a series of statements about these items, such as “I would like to own a Honda motorcycle.”\n",
    "\n",
    "### Exercise 3-4: Guest List\n",
    "**Task:** If you could invite anyone, living or deceased, to dinner, who would you invite? Make a list that includes at least three people you’d like to invite to dinner. Then use your list to print a message to each person, inviting them to dinner.\n",
    "\n",
    "### Exercise 3-5: Changing Guest List\n",
    "**Task:** Start with your program from Exercise 3-4. Add a `print()` call at the end of your program, stating the name of the guest who can’t make it. Modify your list, replacing the name of the guest who can’t make it with the name of the new person you are inviting. Print a second set of invitation messages, one for each person who is still in your list.\n",
    "\n",
    "### Exercise 3-6: More Guests\n",
    "**Task:** Start with your program from Exercise 3-4 or 3-5. Add a `print()` call to the end of your program, informing people that you found a bigger table. Use `insert()` to add one new guest to the beginning of your list. Use `insert()` to add one new guest to the middle of your list. Use `append()` to add one new guest to the end of your list. Print a new set of invitation messages, one for each person in your list.\n",
    "\n",
    "### Exercise 3-7: Shrinking Guest List\n",
    "**Task:** Start with your program from Exercise 3-6. Add a new line that prints a message saying that you can invite only two people for dinner. Use `pop()` to remove guests from your list one at a time until only two names remain in your list. Each time you `pop` a name from your list, print a message to that person letting them know you’re sorry you can’t invite them to dinner. Print a message to each of the two people still on your list, letting them know they’re still invited. Use `del` to remove the last two names from your list, so you have an empty list. Print your list to make sure you actually have an empty list at the end of your program.\n",
    "\n",
    "### Exercise 3-8: Seeing the World\n",
    "**Task:** Think of at least five places in the world you’d like to visit. Store the locations in a list. Make sure the list is not in alphabetical order. Print your list in its original order. Don’t worry about printing the list neatly; just print it as a raw Python list. Use `sorted()` to print your list in alphabetical order without modifying the actual list. Show that your list is still in its original order by printing it. Use `sorted()` to print your list in reverse-alphabetical order without changing the order of the original list. Show that your list is still in its original order by printing it again. Use `reverse()` to change the order of your list. Print the list to show that its order has changed. Use `reverse()` to change the order of your list again. Print the list to show it’s back to its original order. Use `sort()` to change your list so it’s stored in alphabetical order. Print the list to show that its order has been changed. Use `sort()` to change your list so it’s stored in reverse-alphabetical order. Print the list to show that its order has changed.\n",
    "\n",
    "### Exercise 3-9: Every Function\n",
    "**Task:** Think of things you could store in a list.\n",
    "\n",
    "</div>\n"
   ]
  },
  {
   "cell_type": "code",
   "execution_count": 12,
   "metadata": {},
   "outputs": [
    {
     "name": "stdout",
     "output_type": "stream",
     "text": [
      "Malik\n",
      "Aamir\n",
      "Shahzadah\n",
      "Khokhar\n"
     ]
    }
   ],
   "source": [
    "\n",
    "names = [\"Malik\", \"Aamir\", \"Shahzadah\", \"Khokhar\"]\n",
    "print(names[0])\n",
    "print(names[1])\n",
    "print(names[2])\n",
    "print(names[3])"
   ]
  },
  {
   "cell_type": "code",
   "execution_count": 13,
   "metadata": {},
   "outputs": [
    {
     "name": "stdout",
     "output_type": "stream",
     "text": [
      "Hello, Aamir! How are you?\n",
      "Hello, Malik! How are you?\n",
      "Hello, Shahzadah! How are you?\n",
      "Hello, Khokhar! How are you?\n"
     ]
    }
   ],
   "source": [
    "names = [\"Malik\", \"Aamir\", \"Shahzadah\", \"Khokhar\", \"Bhai\"]\n",
    "\n",
    "print(f\"Hello, {names[1]}! How are you?\")\n",
    "print(f\"Hello, {names[0]}! How are you?\")\n",
    "print(f\"Hello, {names[2]}! How are you?\")\n",
    "print(f\"Hello, {names[3]}! How are you?\")"
   ]
  },
  {
   "cell_type": "code",
   "execution_count": 14,
   "metadata": {},
   "outputs": [
    {
     "name": "stdout",
     "output_type": "stream",
     "text": [
      "I would like to own a Honda 125 Model 2017.\n",
      "I would like to own a Honda 125 Model 2018.\n",
      "I would like to own a Cultus Model 2006 .\n"
     ]
    }
   ],
   "source": [
    "transportation = [\"Honda 125 Model 2017\", \"Honda 125 Model 2018\", \"Cultus Model 2006 \"]\n",
    "\n",
    "print(f\"I would like to own a {transportation[0]}.\")\n",
    "print(f\"I would like to own a {transportation[1]}.\")\n",
    "print(f\"I would like to own a {transportation[2]}.\")"
   ]
  },
  {
   "cell_type": "code",
   "execution_count": 16,
   "metadata": {},
   "outputs": [
    {
     "name": "stdout",
     "output_type": "stream",
     "text": [
      "Dear Liqat, Salam bhai jee aap ko  invited kay ha  dinner pay.\n",
      "Dear Shoukat, Salam bhai jee aap ko  invited kay ha  dinner pay.\n",
      "Dear Ghayour, Salam bhai jee aap ko  invited kay ha  dinner pay.\n"
     ]
    }
   ],
   "source": [
    "guests = [\"Liqat\", \"Shoukat\", \"Ghayour\"]\n",
    "\n",
    "for guest in guests:\n",
    "    print(f\"Dear {guest}, Salam bhai jee aap ko  invited kay ha  dinner pay.\")"
   ]
  },
  {
   "cell_type": "code",
   "execution_count": 18,
   "metadata": {},
   "outputs": [
    {
     "name": "stdout",
     "output_type": "stream",
     "text": [
      "Unfortunately , Shoukat  Dinner bahi jee Cancel ho ga.\n",
      "Dear Liqat, Salam bhai jee aap ko  invited kay ha  dinner pay.\n",
      "Dear Farza, Salam bhai jee aap ko  invited kay ha  dinner pay.\n",
      "Dear Ghayour, Salam bhai jee aap ko  invited kay ha  dinner pay.\n"
     ]
    }
   ],
   "source": [
    "guests = [\"Liqat\", \"Shoukat\", \"Ghayour\"]\n",
    "\n",
    "print(f\"Unfortunately , {guests[1]}  Dinner bro jee Cancel ho ga.\")\n",
    "\n",
    "guests[1] = \"Farz\"\n",
    "\n",
    "for guest in guests:\n",
    "    print(f\"Dear {guest}, Salam bhai jee aap ko  invited kay ha  dinner pay.\")\n"
   ]
  },
  {
   "cell_type": "code",
   "execution_count": 20,
   "metadata": {},
   "outputs": [
    {
     "name": "stdout",
     "output_type": "stream",
     "text": [
      "Good news! Humay ik bara  table mil ga ha, ab  sab a  invite ha.\n",
      "Dear Iqbal, you are invited to dinner.\n",
      "Dear Liqat, you are invited to dinner.\n",
      "Dear Sir , you are invited to dinner.\n",
      "Dear Shoukat, you are invited to dinner.\n",
      "Dear Ghayour, you are invited to dinner.\n",
      "Dear Bhai, you are invited to dinner.\n"
     ]
    }
   ],
   "source": [
    "guests = [\"Liqat\", \"Shoukat\", \"Ghayour\"]\n",
    "\n",
    "print(\"Good news! Humay ik bara  table mil ga ha, ab  sab a  invite ha.\")\n",
    "\n",
    "guests.insert(0, \"Iqbal\") \n",
    "guests.insert(2, \"Sir \")  \n",
    "guests.append(\"Bhai\") \n",
    "\n",
    "for guest in guests:\n",
    "    print(f\"Dear {guest}, you are invited to dinner.\")\n"
   ]
  },
  {
   "cell_type": "code",
   "execution_count": 21,
   "metadata": {},
   "outputs": [
    {
     "name": "stdout",
     "output_type": "stream",
     "text": [
      "Unfortunately, I can only invite two people for dinner.\n",
      "Sorry, Bhai, but I can't invite you to dinner.\n",
      "Sorry, Sir, but I can't invite you to dinner.\n",
      "Sorry, Iqbal, but I can't invite you to dinner.\n",
      "Sorry, Ghayour, but I can't invite you to dinner.\n",
      "Liqat, you're still invited!\n",
      "Shoukat, you're still invited!\n",
      "Final guest list: []\n"
     ]
    }
   ],
   "source": [
    "guests = [\"Liqat\", \"Shoukat\", \"Ghayour\", \"Iqbal\", \"Sir\", \"Bhai\"]\n",
    "\n",
    "print(\"Unfortunately, I can only invite two people for dinner.\")\n",
    "\n",
    "while len(guests) > 2:\n",
    "    removed_guest = guests.pop()\n",
    "    print(f\"Sorry, {removed_guest}, but I can't invite you to dinner.\")\n",
    "\n",
    "\n",
    "for guest in guests:\n",
    "    print(f\"{guest}, you're still invited!\")\n",
    "\n",
    "del guests[0]\n",
    "del guests[0]\n",
    "\n",
    "print(f\"Final guest list: {guests}\")\n"
   ]
  },
  {
   "cell_type": "code",
   "execution_count": 22,
   "metadata": {},
   "outputs": [
    {
     "name": "stdout",
     "output_type": "stream",
     "text": [
      "Original order: ['Lahore', 'Multan', 'Islamabad', 'Okara', 'UMT']\n",
      "Alphabetical order: ['Islamabad', 'Lahore', 'Multan', 'Okara', 'UMT']\n",
      "Original order again: ['Lahore', 'Multan', 'Islamabad', 'Okara', 'UMT']\n",
      "Reverse-alphabetical order: ['UMT', 'Okara', 'Multan', 'Lahore', 'Islamabad']\n",
      "Original order again: ['Lahore', 'Multan', 'Islamabad', 'Okara', 'UMT']\n",
      "Reversed order: ['UMT', 'Okara', 'Islamabad', 'Multan', 'Lahore']\n",
      "Original order restored: ['Lahore', 'Multan', 'Islamabad', 'Okara', 'UMT']\n",
      "Alphabetical order (sorted): ['Islamabad', 'Lahore', 'Multan', 'Okara', 'UMT']\n",
      "Reverse-alphabetical order (sorted): ['UMT', 'Okara', 'Multan', 'Lahore', 'Islamabad']\n"
     ]
    }
   ],
   "source": [
    "places = [\"Lahore\", \"Multan\", \"Islamabad\", \"Okra\", \"UMT\"]\n",
    "\n",
    "print(\"Original order:\", places)\n",
    "\n",
    "print(\"Alphabetical order:\", sorted(places))\n",
    "\n",
    "print(\"Original order again:\", places)\n",
    "\n",
    "print(\"Reverse-alphabetical order:\", sorted(places, reverse=True))\n",
    "\n",
    "print(\"Original order again:\", places)\n",
    "\n",
    "places.reverse()\n",
    "print(\"Reversed order:\", places)\n",
    "\n",
    "places.reverse()\n",
    "print(\"Original order restored:\", places)\n",
    "\n",
    "places.sort()\n",
    "print(\"Alphabetical order (sorted):\", places)\n",
    "\n",
    "places.sort(reverse=True)\n",
    "print(\"Reverse-alphabetical order (sorted):\", places)\n"
   ]
  },
  {
   "cell_type": "code",
   "execution_count": 23,
   "metadata": {},
   "outputs": [
    {
     "name": "stdout",
     "output_type": "stream",
     "text": [
      "Original list: ['Pizza', 'Burger', 'Pasta', 'Sushi', 'Ice cream']\n",
      "Sorted list: ['Burger', 'Ice cream', 'Pasta', 'Pizza', 'Sushi']\n",
      "After appending: ['Pizza', 'Burger', 'Pasta', 'Sushi', 'Ice cream', 'Salad']\n",
      "After inserting at index 2: ['Pizza', 'Burger', 'Fries', 'Pasta', 'Sushi', 'Ice cream', 'Salad']\n",
      "After removing 'Burger': ['Pizza', 'Fries', 'Pasta', 'Sushi', 'Ice cream', 'Salad']\n",
      "Popped item: Salad\n",
      "After popping an item: ['Pizza', 'Fries', 'Pasta', 'Sushi', 'Ice cream']\n",
      "Sorted list (sort()): ['Fries', 'Ice cream', 'Pasta', 'Pizza', 'Sushi']\n",
      "Reversed list: ['Sushi', 'Pizza', 'Pasta', 'Ice cream', 'Fries']\n"
     ]
    }
   ],
   "source": [
    "foods = [\"Pizza\", \"Burger\", \"Pasta\", \"Sushi\", \"Ice cream\"]\n",
    "\n",
    "print(\"Original list:\", foods)\n",
    "print(\"Sorted list:\", sorted(foods))  \n",
    "foods.append(\"Salad\")  \n",
    "print(\"After appending:\", foods)\n",
    "foods.insert(2, \"Fries\") \n",
    "print(\"After inserting at index 2:\", foods)\n",
    "foods.remove(\"Burger\")  \n",
    "print(\"After removing 'Burger':\", foods)\n",
    "popped_item = foods.pop()  \n",
    "print(f\"Popped item: {popped_item}\")\n",
    "print(\"After popping an item:\", foods)\n",
    "foods.sort()\n",
    "print(\"Sorted list (sort()):\", foods)\n",
    "foods.reverse() \n",
    "print(\"Reversed list:\", foods)\n"
   ]
  },
  {
   "cell_type": "code",
   "execution_count": 24,
   "metadata": {},
   "outputs": [
    {
     "name": "stdout",
     "output_type": "stream",
     "text": [
      "Blue\n"
     ]
    }
   ],
   "source": [
    "colors = [\"Red\", \"Green\", \"Blue\"]\n",
    "print(colors[2])\n"
   ]
  }
 ],
 "metadata": {
  "kernelspec": {
   "display_name": "Python 3",
   "language": "python",
   "name": "python3"
  },
  "language_info": {
   "codemirror_mode": {
    "name": "ipython",
    "version": 3
   },
   "file_extension": ".py",
   "mimetype": "text/x-python",
   "name": "python",
   "nbconvert_exporter": "python",
   "pygments_lexer": "ipython3",
   "version": "3.12.4"
  }
 },
 "nbformat": 4,
 "nbformat_minor": 2
}
