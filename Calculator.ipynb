{
  "nbformat": 4,
  "nbformat_minor": 0,
  "metadata": {
    "colab": {
      "provenance": [],
      "authorship_tag": "ABX9TyM7rQOOt4Lg7DUX8PweVxXy",
      "include_colab_link": true
    },
    "kernelspec": {
      "name": "python3",
      "display_name": "Python 3"
    },
    "language_info": {
      "name": "python"
    }
  },
  "cells": [
    {
      "cell_type": "markdown",
      "metadata": {
        "id": "view-in-github",
        "colab_type": "text"
      },
      "source": [
        "<a href=\"https://colab.research.google.com/github/programing-community/Practice-Python/blob/main/Calculator.ipynb\" target=\"_parent\"><img src=\"https://colab.research.google.com/assets/colab-badge.svg\" alt=\"Open In Colab\"/></a>"
      ]
    },
    {
      "cell_type": "code",
      "execution_count": 1,
      "metadata": {
        "colab": {
          "base_uri": "https://localhost:8080/"
        },
        "id": "vGsrfMzA_lfS",
        "outputId": "cdb7824b-9211-42f0-ca36-46aa77d3d326"
      },
      "outputs": [
        {
          "output_type": "stream",
          "name": "stdout",
          "text": [
            "Select operation:\n",
            "1. Add\n",
            "2. Subtract\n",
            "3. Multiply\n",
            "4. Divide\n",
            "5. Power\n",
            "Enter choice (1/2/3/4/5): 1\n",
            "Enter first number: 5\n",
            "Enter second number: 3\n",
            "The result is: 8.0\n"
          ]
        }
      ],
      "source": [
        "\n",
        "def add(x, y):\n",
        "    return x + y\n",
        "\n",
        "\n",
        "def subtract(x, y):\n",
        "    return x - y\n",
        "\n",
        "\n",
        "def multiply(x, y):\n",
        "    return x * y\n",
        "\n",
        "\n",
        "def divide(x, y):\n",
        "    if y == 0:\n",
        "        return \"Error: Division by zero!\"\n",
        "    else:\n",
        "        return x / y\n",
        "\n",
        "\n",
        "def power(x, y):\n",
        "    return x ** y\n",
        "\n",
        "\n",
        "def calculator():\n",
        "    print(\"Select operation:\")\n",
        "    print(\"1. Add\")\n",
        "    print(\"2. Subtract\")\n",
        "    print(\"3. Multiply\")\n",
        "    print(\"4. Divide\")\n",
        "    print(\"5. Power\")\n",
        "\n",
        "\n",
        "    choice = input(\"Enter choice (1/2/3/4/5): \")\n",
        "\n",
        "\n",
        "    if choice not in ['1', '2', '3', '4', '5']:\n",
        "        print(\"Invalid input\")\n",
        "        return\n",
        "\n",
        "\n",
        "    num1 = float(input(\"Enter first number: \"))\n",
        "    num2 = float(input(\"Enter second number: \"))\n",
        "\n",
        "\n",
        "    if choice == '1':\n",
        "        print(f\"The result is: {add(num1, num2)}\")\n",
        "    elif choice == '2':\n",
        "        print(f\"The result is: {subtract(num1, num2)}\")\n",
        "    elif choice == '3':\n",
        "        print(f\"The result is: {multiply(num1, num2)}\")\n",
        "    elif choice == '4':\n",
        "        print(f\"The result is: {divide(num1, num2)}\")\n",
        "    elif choice == '5':\n",
        "        print(f\"The result is: {power(num1, num2)}\")\n",
        "\n",
        "\n",
        "calculator()"
      ]
    }
  ]
}